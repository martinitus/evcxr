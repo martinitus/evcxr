{
 "cells": [
  {
   "cell_type": "code",
   "execution_count": 4,
   "id": "7218279c-a1e3-46d6-b5b1-a31e6699e832",
   "metadata": {},
   "outputs": [],
   "source": [
    ":clear"
   ]
  },
  {
   "cell_type": "code",
   "execution_count": 8,
   "id": "715f402a-510b-4155-ac9c-d07a88c2af0b",
   "metadata": {},
   "outputs": [
    {
     "ename": "Error",
     "evalue": "the name `LevelFilter` is defined multiple times",
     "output_type": "error",
     "traceback": [
      "\u001b[31m[E0252] Error:\u001b[0m the name `LevelFilter` is defined multiple times"
     ]
    }
   ],
   "source": [
    ":dep log4rs\n",
    "    \n",
    "use log::LevelFilter;\n",
    "use log4rs::append::console::ConsoleAppender;\n",
    "use log4rs::append::file::FileAppender;\n",
    "use log4rs::encode::pattern::PatternEncoder;\n",
    "use log4rs::config::{Appender, Config, Logger, Root};\n",
    "\n",
    "let stdout = ConsoleAppender::builder()\n",
    "     .encoder(Box::new(PatternEncoder::new(\"{d(%Y-%m-%d %H:%M:%S)} [{tid}|{pid}] {M} {l}: {m}\")))\n",
    "     .build();\n",
    "\n",
    "let config = Config::builder()\n",
    "    .appender(Appender::builder().build(\"stdout\", Box::new(stdout)))\n",
    "    .build(Root::builder().appender(\"stdout\").build(LevelFilter::Debug))\n",
    "    .unwrap();\n",
    "\n",
    "log4rs::init_config(config).unwrap();\n",
    "log::info!(\"Hello from Cell execution\");"
   ]
  },
  {
   "cell_type": "code",
   "execution_count": 5,
   "id": "05b93982-6158-447b-802a-5c56b33bd55f",
   "metadata": {},
   "outputs": [],
   "source": [
    "\n",
    "    \n",
    "log4rs::init_file(\"./log4rs.yml\", Default::default()).unwrap();\n",
    "log::debug!(\"foo\");"
   ]
  },
  {
   "cell_type": "code",
   "execution_count": 27,
   "id": "fafb5cfc-b447-4011-9621-fb8dd5150ceb",
   "metadata": {},
   "outputs": [
    {
     "name": "stdout",
     "output_type": "stream",
     "text": [
      "raw = 0x7ff9f51644e0\n"
     ]
    },
    {
     "data": {
      "text/plain": [
       "()"
      ]
     },
     "execution_count": 27,
     "metadata": {},
     "output_type": "execute_result"
    }
   ],
   "source": [
    "log::info!(\"hello martinitus\");\n",
    "let x: &'static dyn log::Log = log::logger();\n",
    "\n",
    "{\n",
    "    let my_value_raw_ptr = x as *const dyn Log;\n",
    "    println!(\"raw = {:?}\", my_value_raw_ptr);\n",
    "    // convert the raw pointer to an integer\n",
    "    //let my_value_addr = my_value_raw_ptr as usize;\n",
    "    //println!(\"addr = {:X}\", my_value_raw_ptr);\n",
    "}"
   ]
  },
  {
   "cell_type": "code",
   "execution_count": 32,
   "id": "60a03d88-64cf-45c4-9157-3b9b5100a51c",
   "metadata": {},
   "outputs": [
    {
     "name": "stdout",
     "output_type": "stream",
     "text": [
      "raw = 0x7ff9fdcb5670\n"
     ]
    },
    {
     "data": {
      "text/plain": [
       "()"
      ]
     },
     "execution_count": 32,
     "metadata": {},
     "output_type": "execute_result"
    }
   ],
   "source": [
    "\n",
    "log::info!(\"hello martinitusas\");\n",
    "let x: &'static dyn log::Log = log::logger();\n",
    "\n",
    "{\n",
    "   // let my_value_raw_ptr = x as *const dyn Log;\n",
    "    println!(\"raw = {:?}\", x as *const dyn Log);\n",
    "    // convert the raw pointer to an integer\n",
    "    //let my_value_addr = my_value_raw_ptr as usize;\n",
    "    //println!(\"addr = {:X}\", my_value_raw_ptr);\n",
    "}"
   ]
  },
  {
   "cell_type": "code",
   "execution_count": 9,
   "id": "9f2301e9-e0e1-40c4-b653-2550d1e4a929",
   "metadata": {},
   "outputs": [
    {
     "name": "stdout",
     "output_type": "stream",
     "text": [
      "foo\n"
     ]
    },
    {
     "data": {
      "text/plain": [
       "()"
      ]
     },
     "execution_count": 9,
     "metadata": {},
     "output_type": "execute_result"
    }
   ],
   "source": [
    "println!(\"foo\")"
   ]
  },
  {
   "cell_type": "code",
   "execution_count": null,
   "id": "7fb27467-c368-4971-8544-dd309d3fbcb4",
   "metadata": {},
   "outputs": [],
   "source": [
    ":internal_debug true"
   ]
  },
  {
   "cell_type": "code",
   "execution_count": null,
   "id": "8d3ff703-5121-45c1-b732-dad9853a36fb",
   "metadata": {},
   "outputs": [],
   "source": []
  }
 ],
 "metadata": {
  "kernelspec": {
   "display_name": "Rust",
   "language": "rust",
   "name": "rust"
  },
  "language_info": {
   "codemirror_mode": "rust",
   "file_extension": ".rs",
   "mimetype": "text/rust",
   "name": "Rust",
   "pygment_lexer": "rust",
   "version": ""
  }
 },
 "nbformat": 4,
 "nbformat_minor": 5
}
